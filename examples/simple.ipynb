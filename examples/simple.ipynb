{
 "cells": [
  {
   "cell_type": "code",
   "execution_count": null,
   "metadata": {},
   "outputs": [],
   "source": [
    "import numpy as np\n",
    "import matplotlib.pyplot as plt\n",
    "%matplotlib inline\n",
    "\n",
    "# import SeaIceDrift helper class\n",
    "from sea_ice_drift import SeaIceDrift"
   ]
  },
  {
   "cell_type": "code",
   "execution_count": null,
   "metadata": {},
   "outputs": [],
   "source": [
    "# set names of files\n",
    "f1 = 'S1B_EW_GRDM_1SDH_20161005T101835.tif'\n",
    "f2 = 'S1A_EW_GRDM_1SDH_20161005T142446.tif'\n",
    "# create SeaIceDrift object\n",
    "sid = SeaIceDrift(f1, f2)"
   ]
  },
  {
   "cell_type": "code",
   "execution_count": null,
   "metadata": {},
   "outputs": [],
   "source": [
    "# run Feature Tracking\n",
    "uft, vft, lon1ft, lat1ft, lon2ft, lat2ft = sid.get_drift_FT()"
   ]
  },
  {
   "cell_type": "code",
   "execution_count": null,
   "metadata": {},
   "outputs": [],
   "source": [
    "# plot identified and matched keypoints\n",
    "plt.plot(lon1ft, lat1ft, '.')\n",
    "plt.plot(lon2ft, lat2ft, '.')"
   ]
  },
  {
   "cell_type": "code",
   "execution_count": null,
   "metadata": {},
   "outputs": [],
   "source": [
    "# plot ice drift vectors calculated from the keypoints\n",
    "plt.quiver(lon1ft, lat1ft, uft, vft, color='r',\n",
    "           angles='xy', scale_units='xy', scale=0.5)"
   ]
  },
  {
   "cell_type": "code",
   "execution_count": null,
   "metadata": {},
   "outputs": [],
   "source": [
    "# create longitude and latitude grids at satellite projection\n",
    "step = 10\n",
    "lon1pm, lat1pm = sid.n1.get_geolocation_grids(stepSize=step)\n",
    "plt.subplot(1,2,1);plt.imshow(lon1pm);plt.colorbar();plt.title('Longitude grid')\n",
    "plt.subplot(1,2,2);plt.imshow(lat1pm);plt.colorbar();plt.title('Latitude grid')"
   ]
  },
  {
   "cell_type": "code",
   "execution_count": null,
   "metadata": {},
   "outputs": [],
   "source": [
    "# run pattern matching\n",
    "upm, vpm, apm, rpm, hpm, lon2pm, lat2pm = sid.get_drift_PM(\n",
    "                                    lon1pm, lat1pm,\n",
    "                                    lon1ft, lat1ft,\n",
    "                                    lon2ft, lat2ft)"
   ]
  },
  {
   "cell_type": "code",
   "execution_count": null,
   "metadata": {},
   "outputs": [],
   "source": [
    "# plot results of pattern matching\n",
    "\n",
    "# find cells with correlation over 0.4\n",
    "gpi = rpm > 0.4\n",
    "\n",
    "# convert lon/lat into cartesian coordinates (only valid)\n",
    "x1pm, y1pm = sid.n1.transform_points(lon1pm[gpi], lat1pm[gpi], DstToSrc=1)\n",
    "x2pm, y2pm = sid.n1.transform_points(lon2pm[gpi], lat2pm[gpi], DstToSrc=1)\n",
    "\n",
    "# compute ice drift speed in cartesian coordinates\n",
    "dx_pm = x2pm - x1pm\n",
    "dy_pm = y2pm - y1pm\n",
    "\n",
    "# plot vectors of sea ice drift from Feature Tracking, color by MCC\n",
    "plt.figure(figsize=(10,10))\n",
    "plt.imshow(sid.n1[1], cmap='gray')\n",
    "plt.quiver(x1pm, y1pm, dx_pm, dy_pm, rpm[gpi],\n",
    "           angles='xy', scale_units='xy', scale=0.5, cmap='jet')\n",
    "plt.colorbar(shrink=0.7)"
   ]
  },
  {
   "cell_type": "code",
   "execution_count": null,
   "metadata": {},
   "outputs": [],
   "source": []
  }
 ],
 "metadata": {
  "kernelspec": {
   "display_name": "Python 3",
   "language": "python",
   "name": "python3"
  },
  "language_info": {
   "codemirror_mode": {
    "name": "ipython",
    "version": 3
   },
   "file_extension": ".py",
   "mimetype": "text/x-python",
   "name": "python",
   "nbconvert_exporter": "python",
   "pygments_lexer": "ipython3",
   "version": "3.7.3"
  }
 },
 "nbformat": 4,
 "nbformat_minor": 2
}
